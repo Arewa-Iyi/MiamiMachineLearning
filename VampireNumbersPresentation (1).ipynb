{
  "nbformat": 4,
  "nbformat_minor": 0,
  "metadata": {
    "colab": {
      "provenance": []
    },
    "kernelspec": {
      "name": "python3",
      "display_name": "Python 3"
    },
    "language_info": {
      "name": "python"
    }
  },
  "cells": [
    {
      "cell_type": "code",
      "source": [
        "# Author : Arewa Morountudun Ojelade\n",
        "# Date : 7/1/2025\n",
        "# Organization : Miami Machine Learning\n",
        "# Sponsor : Neural Transformers"
      ],
      "metadata": {
        "id": "GIWUbHRM8zRY"
      },
      "execution_count": null,
      "outputs": []
    },
    {
      "cell_type": "markdown",
      "source": [
        "# Neural Network Vampire Number Classification with Sigmoid Function"
      ],
      "metadata": {
        "id": "tKifP2T38-Gu"
      }
    },
    {
      "cell_type": "code",
      "source": [
        "import numpy as np\n",
        "import pandas as pd\n",
        "import math\n",
        "import random\n",
        "import tensorflow as tf\n",
        "from tensorflow.keras.models import Sequential\n",
        "from tensorflow.keras.layers import Dense\n",
        "from sklearn.model_selection import train_test_split\n",
        "from sklearn.linear_model import LogisticRegression\n",
        "from sklearn.metrics import accuracy_score, confusion_matrix, classification_report\n"
      ],
      "metadata": {
        "id": "2NDcFrEqc_3v"
      },
      "execution_count": null,
      "outputs": []
    },
    {
      "cell_type": "markdown",
      "source": [
        "Here we are populating the interval in a numpy array"
      ],
      "metadata": {
        "id": "33M3B57lO1VS"
      }
    },
    {
      "cell_type": "code",
      "source": [
        "interval = np.arange(100000,999999);\n",
        "m = interval.shape[0]"
      ],
      "metadata": {
        "id": "28Sezfx4dSfA"
      },
      "execution_count": null,
      "outputs": []
    },
    {
      "cell_type": "markdown",
      "source": [
        "A series of lambda functions to perform various tasks required in fang  identification"
      ],
      "metadata": {
        "id": "xdF7T5UcO99R"
      }
    },
    {
      "cell_type": "code",
      "source": [
        "# These lambda functions return an array\n",
        "summation = np.vectorize(lambda x: sum(int(digit) for digit in str(x)))    # sums up digits in a value for each element in an array\n",
        "count = np.vectorize(lambda x: sum(1 for digit in str(x)))                 # counts number of digits in a value for each element in an array\n",
        "even = np.vectorize(lambda x: len(str(x)) % 2 == 0)                        # qualifies each value as even or odd for each element in an array\n",
        "natural = np.vectorize(lambda x: int(str(x).isdigit and x >= 0))           # qualifies each value as a natural number for each element in an arry\n",
        "\n",
        "# These lambda functions return a boolean\n",
        "trailing = lambda x, y : not(str(x)[-1] == \"0\" and  str(y)[-1] == \"0\")                           # boolean of trailing feature\n",
        "permute = lambda x, y : sorted(list(str(x))) == sorted(list(str(y)))                             # boolean of permutation feature\n",
        "half_as_many = lambda x, y, z : len(x) == int(len(str(z))/2)  and len(y) == int(len(str(z))/2)   # boolean of half as many feature"
      ],
      "metadata": {
        "id": "RoFlZvDZdTM4"
      },
      "execution_count": null,
      "outputs": []
    },
    {
      "cell_type": "markdown",
      "source": [
        "Declaring all array variables necessary for creating a data set and populating with zeros"
      ],
      "metadata": {
        "id": "VnTzh5tMQCyF"
      }
    },
    {
      "cell_type": "code",
      "source": [
        "\n",
        "fang_1 = np.zeros(m)\n",
        "fang_2 = np.zeros(m)\n",
        "fang_even = np.zeros(m)\n",
        "fang_half_as_many =  np.zeros(m)\n",
        "fang_permutation =  np.zeros(m)\n",
        "fang_trailing_zeros =  np.zeros(m)\n",
        "vampire_number =  np.zeros(m)\n",
        "\n",
        "vampire_count = [0]  # declaring vampiring number count at 0\n"
      ],
      "metadata": {
        "id": "3tGzR3eycXuU"
      },
      "execution_count": null,
      "outputs": []
    },
    {
      "cell_type": "code",
      "source": [
        "\n",
        "# call to verify feature lambda functions\n",
        "print(trailing('260','401'))\n",
        "print(permute(\"201510\" , \"102510\"))\n",
        "print(trailing(201,510) and permute(\"201510\" , \"102510\"))\n"
      ],
      "metadata": {
        "colab": {
          "base_uri": "https://localhost:8080/"
        },
        "id": "csYW5TFSU8E3",
        "outputId": "1956310e-58fe-4ed9-c72e-59968bdb31ca"
      },
      "execution_count": null,
      "outputs": [
        {
          "output_type": "stream",
          "name": "stdout",
          "text": [
            "True\n",
            "True\n",
            "True\n"
          ]
        }
      ]
    },
    {
      "cell_type": "code",
      "source": [
        "def getFangs(value, sum, index):\n",
        "\n",
        "  #interval_limit = [9, 13, 18, 22, 27, 31, 36, 40]\n",
        "  #if sum in interval_limit:\n",
        "    #continue\n",
        "\n",
        "  # declaring feature variables\n",
        "  trailing_feature = 0\n",
        "  permutation_feature = 0\n",
        "  half_as_many_feature = 0\n",
        "\n",
        "  for i in range(2, int(math.sqrt(value) + 1)):\n",
        "    # iterating through to find factors\n",
        "    if int(value) % i == 0 :\n",
        "      fang1 = str(i)\n",
        "      fang2 = str(int(value/i))\n",
        "\n",
        "      # validating features for each factor\n",
        "      trailing_feature = int(trailing(fang1, fang2))\n",
        "      permutation_feature = int(permute(fang1+fang2, str(value)))\n",
        "      half_as_many_feature = int(half_as_many(fang1, fang2, value))\n",
        "\n",
        "      # if factors are validated as fangs\n",
        "      if trailing_feature and permutation_feature and half_as_many_feature:\n",
        "        #classify as vampire number\n",
        "        vampire_number[index] += 1\n",
        "        fang_trailing_zeros[index] += trailing_feature\n",
        "        fang_half_as_many[index] += half_as_many_feature\n",
        "        fang_permutation[index] += permutation_feature\n",
        "\n",
        "        # populate fang arrays with associated fang values\n",
        "        fang_1[index] += int(fang1)\n",
        "        fang_2[index] += int(fang2)\n",
        "\n",
        "        # print to console\n",
        "        print(fang1, fang2, value)\n",
        "        print(\"features : \" ,trailing_feature, half_as_many_feature, permutation_feature)\n",
        "\n",
        "        #increment vampire count\n",
        "        vampire_count[0] += 1\n",
        "        return 1\n",
        "  return 0"
      ],
      "metadata": {
        "id": "V6V-c8BfTp-i"
      },
      "execution_count": null,
      "outputs": []
    },
    {
      "cell_type": "code",
      "source": [
        "natural_number = natural(interval)      # identifying natural number boolean of values in interval\n",
        "digit_count = count(interval)           # identifying digit count of values in interval\n",
        "even_number_of_digits = even(interval)  # identifying number of digits of values interval\n",
        "digit_sum = summation(interval)         # identifying digit sum of values in interval\n",
        "\n",
        "# identifying fangs and classifying features of each value in interval\n",
        "pair_of_fangs = [getFangs(x, y,z) for x,y,z in zip(interval,digit_sum,range(m))]"
      ],
      "metadata": {
        "id": "U-0FvIfJBwSD",
        "colab": {
          "base_uri": "https://localhost:8080/"
        },
        "outputId": "74c84dbf-e80d-4411-963d-4c71ddf1bef5"
      },
      "execution_count": null,
      "outputs": [
        {
          "output_type": "stream",
          "name": "stdout",
          "text": [
            "201 510 102510\n",
            "features :  1 1 1\n",
            "260 401 104260\n",
            "features :  1 1 1\n",
            "210 501 105210\n",
            "features :  1 1 1\n",
            "204 516 105264\n",
            "features :  1 1 1\n",
            "150 705 105750\n",
            "features :  1 1 1\n",
            "135 801 108135\n",
            "features :  1 1 1\n",
            "158 701 110758\n",
            "features :  1 1 1\n",
            "152 761 115672\n",
            "features :  1 1 1\n",
            "161 725 116725\n",
            "features :  1 1 1\n",
            "167 701 117067\n",
            "features :  1 1 1\n",
            "141 840 118440\n",
            "features :  1 1 1\n",
            "201 600 120600\n",
            "features :  1 1 1\n",
            "231 534 123354\n",
            "features :  1 1 1\n",
            "281 443 124483\n",
            "features :  1 1 1\n",
            "152 824 125248\n",
            "features :  1 1 1\n",
            "231 543 125433\n",
            "features :  1 1 1\n",
            "204 615 125460\n",
            "features :  1 1 1\n",
            "251 500 125500\n",
            "features :  1 1 1\n",
            "201 627 126027\n",
            "features :  1 1 1\n",
            "261 486 126846\n",
            "features :  1 1 1\n",
            "140 926 129640\n",
            "features :  1 1 1\n",
            "179 725 129775\n",
            "features :  1 1 1\n",
            "311 422 131242\n",
            "features :  1 1 1\n",
            "323 410 132430\n",
            "features :  1 1 1\n",
            "315 423 133245\n",
            "features :  1 1 1\n",
            "317 425 134725\n",
            "features :  1 1 1\n",
            "231 588 135828\n",
            "features :  1 1 1\n",
            "351 387 135837\n",
            "features :  1 1 1\n",
            "215 635 136525\n",
            "features :  1 1 1\n",
            "146 938 136948\n",
            "features :  1 1 1\n",
            "350 401 140350\n",
            "features :  1 1 1\n",
            "351 414 145314\n",
            "features :  1 1 1\n",
            "317 461 146137\n",
            "features :  1 1 1\n",
            "156 942 146952\n",
            "features :  1 1 1\n",
            "300 501 150300\n",
            "features :  1 1 1\n",
            "251 608 152608\n",
            "features :  1 1 1\n",
            "261 585 152685\n",
            "features :  1 1 1\n",
            "356 431 153436\n",
            "features :  1 1 1\n",
            "240 651 156240\n",
            "features :  1 1 1\n",
            "269 581 156289\n",
            "features :  1 1 1\n",
            "165 951 156915\n",
            "features :  1 1 1\n",
            "176 926 162976\n",
            "features :  1 1 1\n",
            "396 414 163944\n",
            "features :  1 1 1\n",
            "221 782 172822\n",
            "features :  1 1 1\n",
            "231 750 173250\n",
            "features :  1 1 1\n",
            "371 470 174370\n",
            "features :  1 1 1\n",
            "231 759 175329\n",
            "features :  1 1 1\n",
            "225 801 180225\n",
            "features :  1 1 1\n",
            "201 897 180297\n",
            "features :  1 1 1\n",
            "225 810 182250\n",
            "features :  1 1 1\n",
            "281 650 182650\n",
            "features :  1 1 1\n",
            "216 864 186624\n",
            "features :  1 1 1\n",
            "210 906 190260\n",
            "features :  1 1 1\n",
            "210 915 192150\n",
            "features :  1 1 1\n",
            "327 591 193257\n",
            "features :  1 1 1\n",
            "395 491 193945\n",
            "features :  1 1 1\n",
            "275 719 197725\n",
            "features :  1 1 1\n",
            "252 801 201852\n",
            "features :  1 1 1\n",
            "255 807 205785\n",
            "features :  1 1 1\n",
            "216 981 211896\n",
            "features :  1 1 1\n",
            "341 626 213466\n",
            "features :  1 1 1\n",
            "251 860 215860\n",
            "features :  1 1 1\n",
            "323 671 216733\n",
            "features :  1 1 1\n",
            "321 678 217638\n",
            "features :  1 1 1\n",
            "248 881 218488\n",
            "features :  1 1 1\n",
            "269 842 226498\n",
            "features :  1 1 1\n",
            "276 822 226872\n",
            "features :  1 1 1\n",
            "248 926 229648\n",
            "features :  1 1 1\n",
            "338 692 233896\n",
            "features :  1 1 1\n",
            "461 524 241564\n",
            "features :  1 1 1\n",
            "422 581 245182\n",
            "features :  1 1 1\n",
            "296 851 251896\n",
            "features :  1 1 1\n",
            "350 725 253750\n",
            "features :  1 1 1\n",
            "470 542 254740\n",
            "features :  1 1 1\n",
            "323 806 260338\n",
            "features :  1 1 1\n",
            "284 926 262984\n",
            "features :  1 1 1\n",
            "437 602 263074\n",
            "features :  1 1 1\n",
            "489 582 284598\n",
            "features :  1 1 1\n",
            "420 678 284760\n",
            "features :  1 1 1\n",
            "468 612 286416\n",
            "features :  1 1 1\n",
            "320 926 296320\n",
            "features :  1 1 1\n",
            "431 707 304717\n",
            "features :  1 1 1\n",
            "431 725 312475\n",
            "features :  1 1 1\n",
            "321 975 312975\n",
            "features :  1 1 1\n",
            "534 591 315594\n",
            "features :  1 1 1\n",
            "351 900 315900\n",
            "features :  1 1 1\n",
            "351 909 319059\n",
            "features :  1 1 1\n",
            "336 951 319536\n",
            "features :  1 1 1\n",
            "524 623 326452\n",
            "features :  1 1 1\n",
            "342 963 329346\n",
            "features :  1 1 1\n",
            "356 926 329656\n",
            "features :  1 1 1\n",
            "530 635 336550\n",
            "features :  1 1 1\n",
            "360 936 336960\n",
            "features :  1 1 1\n",
            "392 863 338296\n",
            "features :  1 1 1\n",
            "533 641 341653\n",
            "features :  1 1 1\n",
            "366 948 346968\n",
            "features :  1 1 1\n",
            "369 981 361989\n",
            "features :  1 1 1\n",
            "392 926 362992\n",
            "features :  1 1 1\n",
            "533 686 365638\n",
            "features :  1 1 1\n",
            "585 630 368550\n",
            "features :  1 1 1\n",
            "381 969 369189\n",
            "features :  1 1 1\n",
            "383 971 371893\n",
            "features :  1 1 1\n",
            "473 800 378400\n",
            "features :  1 1 1\n",
            "431 878 378418\n",
            "features :  1 1 1\n",
            "435 870 378450\n",
            "features :  1 1 1\n",
            "432 891 384912\n",
            "features :  1 1 1\n",
            "465 831 386415\n",
            "features :  1 1 1\n",
            "593 662 392566\n",
            "features :  1 1 1\n",
            "446 908 404968\n",
            "features :  1 1 1\n",
            "491 845 414895\n",
            "features :  1 1 1\n",
            "641 650 416650\n",
            "features :  1 1 1\n",
            "468 891 416988\n",
            "features :  1 1 1\n",
            "482 890 428980\n",
            "features :  1 1 1\n",
            "464 926 429664\n",
            "features :  1 1 1\n",
            "476 941 447916\n",
            "features :  1 1 1\n",
            "540 846 456840\n",
            "features :  1 1 1\n",
            "650 704 457600\n",
            "features :  1 1 1\n",
            "546 840 458640\n",
            "features :  1 1 1\n",
            "570 834 475380\n",
            "features :  1 1 1\n",
            "624 780 486720\n",
            "features :  1 1 1\n",
            "549 891 489159\n",
            "features :  1 1 1\n",
            "545 899 489955\n",
            "features :  1 1 1\n",
            "590 845 498550\n",
            "features :  1 1 1\n",
            "681 759 516879\n",
            "features :  1 1 1\n",
            "572 926 529672\n",
            "features :  1 1 1\n",
            "563 953 536539\n",
            "features :  1 1 1\n",
            "630 855 538650\n",
            "features :  1 1 1\n",
            "588 951 559188\n",
            "features :  1 1 1\n",
            "657 864 567648\n",
            "features :  1 1 1\n",
            "650 875 568750\n",
            "features :  1 1 1\n",
            "680 926 629680\n",
            "features :  1 1 1\n",
            "650 983 638950\n",
            "features :  1 1 1\n",
            "720 936 673920\n",
            "features :  1 1 1\n",
            "750 906 679500\n",
            "features :  1 1 1\n",
            "788 926 729688\n",
            "features :  1 1 1\n",
            "765 963 736695\n",
            "features :  1 1 1\n",
            "843 876 738468\n",
            "features :  1 1 1\n",
            "776 992 769792\n",
            "features :  1 1 1\n",
            "875 902 789250\n",
            "features :  1 1 1\n",
            "825 957 789525\n",
            "features :  1 1 1\n",
            "855 927 792585\n",
            "features :  1 1 1\n",
            "807 984 794088\n",
            "features :  1 1 1\n",
            "891 909 809919\n",
            "features :  1 1 1\n",
            "894 906 809964\n",
            "features :  1 1 1\n",
            "858 951 815958\n",
            "features :  1 1 1\n",
            "896 926 829696\n",
            "features :  1 1 1\n",
            "891 945 841995\n",
            "features :  1 1 1\n",
            "953 986 939658\n",
            "features :  1 1 1\n"
          ]
        }
      ]
    },
    {
      "cell_type": "code",
      "source": [
        "# print to console how many numbers were found\n",
        "print(f\"{vampire_count[0]} Vampire Numbers Found\")\n"
      ],
      "metadata": {
        "id": "vVMvH-59Drt2",
        "colab": {
          "base_uri": "https://localhost:8080/"
        },
        "outputId": "9a71d7c2-2dac-4138-d481-3cd861ca74b0"
      },
      "execution_count": null,
      "outputs": [
        {
          "output_type": "stream",
          "name": "stdout",
          "text": [
            "148 Vampire Numbers Found\n"
          ]
        }
      ]
    },
    {
      "cell_type": "code",
      "source": [
        "# zipping the list of attributes to create a data set\n",
        "data = list(zip(interval.tolist(),\n",
        "                digit_sum.tolist(),\n",
        "                natural_number.tolist(),\n",
        "                even_number_of_digits.tolist(),\n",
        "                fang_half_as_many.tolist(),\n",
        "                fang_permutation.tolist(),\n",
        "                fang_trailing_zeros.tolist(),\n",
        "                fang_1.tolist(),\n",
        "                fang_2.tolist(),\n",
        "                vampire_number.tolist()))\n",
        "\n"
      ],
      "metadata": {
        "id": "-Gvfjhg_u5VA"
      },
      "execution_count": null,
      "outputs": []
    },
    {
      "cell_type": "code",
      "source": [
        "from dataclasses import make_dataclass\n",
        "headers = [\"number\", \"digit_sum\", \"natural_number\", \"number_even_digits\",\n",
        "           \"half_as_many_feature\",\n",
        "           \"permutation_feature\", \"trailing_zeros_feature\",\"fang_1\", \"fang_2\",\n",
        "           \"vampire_number\"]\n",
        "\n",
        "# creating a pandas dataframe in order to save to csv\n",
        "df = pd.DataFrame(np.array(data), columns = headers)\n",
        "df.head()"
      ],
      "metadata": {
        "id": "AHAcp5SJzwmG",
        "colab": {
          "base_uri": "https://localhost:8080/",
          "height": 206
        },
        "outputId": "a535a428-87b7-48a2-f9c5-74952697987d"
      },
      "execution_count": null,
      "outputs": [
        {
          "output_type": "execute_result",
          "data": {
            "text/plain": [
              "     number  digit_sum  natural_number  number_even_digits  \\\n",
              "0  100000.0        1.0             1.0                 1.0   \n",
              "1  100001.0        2.0             1.0                 1.0   \n",
              "2  100002.0        3.0             1.0                 1.0   \n",
              "3  100003.0        4.0             1.0                 1.0   \n",
              "4  100004.0        5.0             1.0                 1.0   \n",
              "\n",
              "   half_as_many_feature  permutation_feature  trailing_zeros_feature  fang_1  \\\n",
              "0                   0.0                  0.0                     0.0     0.0   \n",
              "1                   0.0                  0.0                     0.0     0.0   \n",
              "2                   0.0                  0.0                     0.0     0.0   \n",
              "3                   0.0                  0.0                     0.0     0.0   \n",
              "4                   0.0                  0.0                     0.0     0.0   \n",
              "\n",
              "   fang_2  vampire_number  \n",
              "0     0.0             0.0  \n",
              "1     0.0             0.0  \n",
              "2     0.0             0.0  \n",
              "3     0.0             0.0  \n",
              "4     0.0             0.0  "
            ],
            "text/html": [
              "\n",
              "  <div id=\"df-2cca41f8-a0db-4358-ab52-a90d167701f3\" class=\"colab-df-container\">\n",
              "    <div>\n",
              "<style scoped>\n",
              "    .dataframe tbody tr th:only-of-type {\n",
              "        vertical-align: middle;\n",
              "    }\n",
              "\n",
              "    .dataframe tbody tr th {\n",
              "        vertical-align: top;\n",
              "    }\n",
              "\n",
              "    .dataframe thead th {\n",
              "        text-align: right;\n",
              "    }\n",
              "</style>\n",
              "<table border=\"1\" class=\"dataframe\">\n",
              "  <thead>\n",
              "    <tr style=\"text-align: right;\">\n",
              "      <th></th>\n",
              "      <th>number</th>\n",
              "      <th>digit_sum</th>\n",
              "      <th>natural_number</th>\n",
              "      <th>number_even_digits</th>\n",
              "      <th>half_as_many_feature</th>\n",
              "      <th>permutation_feature</th>\n",
              "      <th>trailing_zeros_feature</th>\n",
              "      <th>fang_1</th>\n",
              "      <th>fang_2</th>\n",
              "      <th>vampire_number</th>\n",
              "    </tr>\n",
              "  </thead>\n",
              "  <tbody>\n",
              "    <tr>\n",
              "      <th>0</th>\n",
              "      <td>100000.0</td>\n",
              "      <td>1.0</td>\n",
              "      <td>1.0</td>\n",
              "      <td>1.0</td>\n",
              "      <td>0.0</td>\n",
              "      <td>0.0</td>\n",
              "      <td>0.0</td>\n",
              "      <td>0.0</td>\n",
              "      <td>0.0</td>\n",
              "      <td>0.0</td>\n",
              "    </tr>\n",
              "    <tr>\n",
              "      <th>1</th>\n",
              "      <td>100001.0</td>\n",
              "      <td>2.0</td>\n",
              "      <td>1.0</td>\n",
              "      <td>1.0</td>\n",
              "      <td>0.0</td>\n",
              "      <td>0.0</td>\n",
              "      <td>0.0</td>\n",
              "      <td>0.0</td>\n",
              "      <td>0.0</td>\n",
              "      <td>0.0</td>\n",
              "    </tr>\n",
              "    <tr>\n",
              "      <th>2</th>\n",
              "      <td>100002.0</td>\n",
              "      <td>3.0</td>\n",
              "      <td>1.0</td>\n",
              "      <td>1.0</td>\n",
              "      <td>0.0</td>\n",
              "      <td>0.0</td>\n",
              "      <td>0.0</td>\n",
              "      <td>0.0</td>\n",
              "      <td>0.0</td>\n",
              "      <td>0.0</td>\n",
              "    </tr>\n",
              "    <tr>\n",
              "      <th>3</th>\n",
              "      <td>100003.0</td>\n",
              "      <td>4.0</td>\n",
              "      <td>1.0</td>\n",
              "      <td>1.0</td>\n",
              "      <td>0.0</td>\n",
              "      <td>0.0</td>\n",
              "      <td>0.0</td>\n",
              "      <td>0.0</td>\n",
              "      <td>0.0</td>\n",
              "      <td>0.0</td>\n",
              "    </tr>\n",
              "    <tr>\n",
              "      <th>4</th>\n",
              "      <td>100004.0</td>\n",
              "      <td>5.0</td>\n",
              "      <td>1.0</td>\n",
              "      <td>1.0</td>\n",
              "      <td>0.0</td>\n",
              "      <td>0.0</td>\n",
              "      <td>0.0</td>\n",
              "      <td>0.0</td>\n",
              "      <td>0.0</td>\n",
              "      <td>0.0</td>\n",
              "    </tr>\n",
              "  </tbody>\n",
              "</table>\n",
              "</div>\n",
              "    <div class=\"colab-df-buttons\">\n",
              "\n",
              "  <div class=\"colab-df-container\">\n",
              "    <button class=\"colab-df-convert\" onclick=\"convertToInteractive('df-2cca41f8-a0db-4358-ab52-a90d167701f3')\"\n",
              "            title=\"Convert this dataframe to an interactive table.\"\n",
              "            style=\"display:none;\">\n",
              "\n",
              "  <svg xmlns=\"http://www.w3.org/2000/svg\" height=\"24px\" viewBox=\"0 -960 960 960\">\n",
              "    <path d=\"M120-120v-720h720v720H120Zm60-500h600v-160H180v160Zm220 220h160v-160H400v160Zm0 220h160v-160H400v160ZM180-400h160v-160H180v160Zm440 0h160v-160H620v160ZM180-180h160v-160H180v160Zm440 0h160v-160H620v160Z\"/>\n",
              "  </svg>\n",
              "    </button>\n",
              "\n",
              "  <style>\n",
              "    .colab-df-container {\n",
              "      display:flex;\n",
              "      gap: 12px;\n",
              "    }\n",
              "\n",
              "    .colab-df-convert {\n",
              "      background-color: #E8F0FE;\n",
              "      border: none;\n",
              "      border-radius: 50%;\n",
              "      cursor: pointer;\n",
              "      display: none;\n",
              "      fill: #1967D2;\n",
              "      height: 32px;\n",
              "      padding: 0 0 0 0;\n",
              "      width: 32px;\n",
              "    }\n",
              "\n",
              "    .colab-df-convert:hover {\n",
              "      background-color: #E2EBFA;\n",
              "      box-shadow: 0px 1px 2px rgba(60, 64, 67, 0.3), 0px 1px 3px 1px rgba(60, 64, 67, 0.15);\n",
              "      fill: #174EA6;\n",
              "    }\n",
              "\n",
              "    .colab-df-buttons div {\n",
              "      margin-bottom: 4px;\n",
              "    }\n",
              "\n",
              "    [theme=dark] .colab-df-convert {\n",
              "      background-color: #3B4455;\n",
              "      fill: #D2E3FC;\n",
              "    }\n",
              "\n",
              "    [theme=dark] .colab-df-convert:hover {\n",
              "      background-color: #434B5C;\n",
              "      box-shadow: 0px 1px 3px 1px rgba(0, 0, 0, 0.15);\n",
              "      filter: drop-shadow(0px 1px 2px rgba(0, 0, 0, 0.3));\n",
              "      fill: #FFFFFF;\n",
              "    }\n",
              "  </style>\n",
              "\n",
              "    <script>\n",
              "      const buttonEl =\n",
              "        document.querySelector('#df-2cca41f8-a0db-4358-ab52-a90d167701f3 button.colab-df-convert');\n",
              "      buttonEl.style.display =\n",
              "        google.colab.kernel.accessAllowed ? 'block' : 'none';\n",
              "\n",
              "      async function convertToInteractive(key) {\n",
              "        const element = document.querySelector('#df-2cca41f8-a0db-4358-ab52-a90d167701f3');\n",
              "        const dataTable =\n",
              "          await google.colab.kernel.invokeFunction('convertToInteractive',\n",
              "                                                    [key], {});\n",
              "        if (!dataTable) return;\n",
              "\n",
              "        const docLinkHtml = 'Like what you see? Visit the ' +\n",
              "          '<a target=\"_blank\" href=https://colab.research.google.com/notebooks/data_table.ipynb>data table notebook</a>'\n",
              "          + ' to learn more about interactive tables.';\n",
              "        element.innerHTML = '';\n",
              "        dataTable['output_type'] = 'display_data';\n",
              "        await google.colab.output.renderOutput(dataTable, element);\n",
              "        const docLink = document.createElement('div');\n",
              "        docLink.innerHTML = docLinkHtml;\n",
              "        element.appendChild(docLink);\n",
              "      }\n",
              "    </script>\n",
              "  </div>\n",
              "\n",
              "\n",
              "    <div id=\"df-ed46197e-7c26-4dbd-b1a0-9817edb3ce24\">\n",
              "      <button class=\"colab-df-quickchart\" onclick=\"quickchart('df-ed46197e-7c26-4dbd-b1a0-9817edb3ce24')\"\n",
              "                title=\"Suggest charts\"\n",
              "                style=\"display:none;\">\n",
              "\n",
              "<svg xmlns=\"http://www.w3.org/2000/svg\" height=\"24px\"viewBox=\"0 0 24 24\"\n",
              "     width=\"24px\">\n",
              "    <g>\n",
              "        <path d=\"M19 3H5c-1.1 0-2 .9-2 2v14c0 1.1.9 2 2 2h14c1.1 0 2-.9 2-2V5c0-1.1-.9-2-2-2zM9 17H7v-7h2v7zm4 0h-2V7h2v10zm4 0h-2v-4h2v4z\"/>\n",
              "    </g>\n",
              "</svg>\n",
              "      </button>\n",
              "\n",
              "<style>\n",
              "  .colab-df-quickchart {\n",
              "      --bg-color: #E8F0FE;\n",
              "      --fill-color: #1967D2;\n",
              "      --hover-bg-color: #E2EBFA;\n",
              "      --hover-fill-color: #174EA6;\n",
              "      --disabled-fill-color: #AAA;\n",
              "      --disabled-bg-color: #DDD;\n",
              "  }\n",
              "\n",
              "  [theme=dark] .colab-df-quickchart {\n",
              "      --bg-color: #3B4455;\n",
              "      --fill-color: #D2E3FC;\n",
              "      --hover-bg-color: #434B5C;\n",
              "      --hover-fill-color: #FFFFFF;\n",
              "      --disabled-bg-color: #3B4455;\n",
              "      --disabled-fill-color: #666;\n",
              "  }\n",
              "\n",
              "  .colab-df-quickchart {\n",
              "    background-color: var(--bg-color);\n",
              "    border: none;\n",
              "    border-radius: 50%;\n",
              "    cursor: pointer;\n",
              "    display: none;\n",
              "    fill: var(--fill-color);\n",
              "    height: 32px;\n",
              "    padding: 0;\n",
              "    width: 32px;\n",
              "  }\n",
              "\n",
              "  .colab-df-quickchart:hover {\n",
              "    background-color: var(--hover-bg-color);\n",
              "    box-shadow: 0 1px 2px rgba(60, 64, 67, 0.3), 0 1px 3px 1px rgba(60, 64, 67, 0.15);\n",
              "    fill: var(--button-hover-fill-color);\n",
              "  }\n",
              "\n",
              "  .colab-df-quickchart-complete:disabled,\n",
              "  .colab-df-quickchart-complete:disabled:hover {\n",
              "    background-color: var(--disabled-bg-color);\n",
              "    fill: var(--disabled-fill-color);\n",
              "    box-shadow: none;\n",
              "  }\n",
              "\n",
              "  .colab-df-spinner {\n",
              "    border: 2px solid var(--fill-color);\n",
              "    border-color: transparent;\n",
              "    border-bottom-color: var(--fill-color);\n",
              "    animation:\n",
              "      spin 1s steps(1) infinite;\n",
              "  }\n",
              "\n",
              "  @keyframes spin {\n",
              "    0% {\n",
              "      border-color: transparent;\n",
              "      border-bottom-color: var(--fill-color);\n",
              "      border-left-color: var(--fill-color);\n",
              "    }\n",
              "    20% {\n",
              "      border-color: transparent;\n",
              "      border-left-color: var(--fill-color);\n",
              "      border-top-color: var(--fill-color);\n",
              "    }\n",
              "    30% {\n",
              "      border-color: transparent;\n",
              "      border-left-color: var(--fill-color);\n",
              "      border-top-color: var(--fill-color);\n",
              "      border-right-color: var(--fill-color);\n",
              "    }\n",
              "    40% {\n",
              "      border-color: transparent;\n",
              "      border-right-color: var(--fill-color);\n",
              "      border-top-color: var(--fill-color);\n",
              "    }\n",
              "    60% {\n",
              "      border-color: transparent;\n",
              "      border-right-color: var(--fill-color);\n",
              "    }\n",
              "    80% {\n",
              "      border-color: transparent;\n",
              "      border-right-color: var(--fill-color);\n",
              "      border-bottom-color: var(--fill-color);\n",
              "    }\n",
              "    90% {\n",
              "      border-color: transparent;\n",
              "      border-bottom-color: var(--fill-color);\n",
              "    }\n",
              "  }\n",
              "</style>\n",
              "\n",
              "      <script>\n",
              "        async function quickchart(key) {\n",
              "          const quickchartButtonEl =\n",
              "            document.querySelector('#' + key + ' button');\n",
              "          quickchartButtonEl.disabled = true;  // To prevent multiple clicks.\n",
              "          quickchartButtonEl.classList.add('colab-df-spinner');\n",
              "          try {\n",
              "            const charts = await google.colab.kernel.invokeFunction(\n",
              "                'suggestCharts', [key], {});\n",
              "          } catch (error) {\n",
              "            console.error('Error during call to suggestCharts:', error);\n",
              "          }\n",
              "          quickchartButtonEl.classList.remove('colab-df-spinner');\n",
              "          quickchartButtonEl.classList.add('colab-df-quickchart-complete');\n",
              "        }\n",
              "        (() => {\n",
              "          let quickchartButtonEl =\n",
              "            document.querySelector('#df-ed46197e-7c26-4dbd-b1a0-9817edb3ce24 button');\n",
              "          quickchartButtonEl.style.display =\n",
              "            google.colab.kernel.accessAllowed ? 'block' : 'none';\n",
              "        })();\n",
              "      </script>\n",
              "    </div>\n",
              "\n",
              "    </div>\n",
              "  </div>\n"
            ],
            "application/vnd.google.colaboratory.intrinsic+json": {
              "type": "dataframe",
              "variable_name": "df"
            }
          },
          "metadata": {},
          "execution_count": 11
        }
      ]
    },
    {
      "cell_type": "code",
      "source": [
        "# changing data type of dataframe to integer\n",
        "df = df.astype({\"number\": \"int\", \"digit_sum\" : \"int\",\"natural_number\": \"int\",\n",
        "                \"number_even_digits\" : \"int\",\n",
        "                \"half_as_many_feature\": \"int\",\"permutation_feature\": \"int\",\n",
        "                \"trailing_zeros_feature\": \"int\",\"fang_1\": \"int\", \"fang_2\" : \"int\",\n",
        "                \"vampire_number\": \"int\"})\n",
        "df.head()\n"
      ],
      "metadata": {
        "id": "vPPykGvb4Wz_",
        "colab": {
          "base_uri": "https://localhost:8080/",
          "height": 206
        },
        "outputId": "4cd72222-e552-474e-b099-c50a53008ec6"
      },
      "execution_count": null,
      "outputs": [
        {
          "output_type": "execute_result",
          "data": {
            "text/plain": [
              "   number  digit_sum  natural_number  number_even_digits  \\\n",
              "0  100000          1               1                   1   \n",
              "1  100001          2               1                   1   \n",
              "2  100002          3               1                   1   \n",
              "3  100003          4               1                   1   \n",
              "4  100004          5               1                   1   \n",
              "\n",
              "   half_as_many_feature  permutation_feature  trailing_zeros_feature  fang_1  \\\n",
              "0                     0                    0                       0       0   \n",
              "1                     0                    0                       0       0   \n",
              "2                     0                    0                       0       0   \n",
              "3                     0                    0                       0       0   \n",
              "4                     0                    0                       0       0   \n",
              "\n",
              "   fang_2  vampire_number  \n",
              "0       0               0  \n",
              "1       0               0  \n",
              "2       0               0  \n",
              "3       0               0  \n",
              "4       0               0  "
            ],
            "text/html": [
              "\n",
              "  <div id=\"df-81794617-d4a0-425b-beac-e841fc07b8e6\" class=\"colab-df-container\">\n",
              "    <div>\n",
              "<style scoped>\n",
              "    .dataframe tbody tr th:only-of-type {\n",
              "        vertical-align: middle;\n",
              "    }\n",
              "\n",
              "    .dataframe tbody tr th {\n",
              "        vertical-align: top;\n",
              "    }\n",
              "\n",
              "    .dataframe thead th {\n",
              "        text-align: right;\n",
              "    }\n",
              "</style>\n",
              "<table border=\"1\" class=\"dataframe\">\n",
              "  <thead>\n",
              "    <tr style=\"text-align: right;\">\n",
              "      <th></th>\n",
              "      <th>number</th>\n",
              "      <th>digit_sum</th>\n",
              "      <th>natural_number</th>\n",
              "      <th>number_even_digits</th>\n",
              "      <th>half_as_many_feature</th>\n",
              "      <th>permutation_feature</th>\n",
              "      <th>trailing_zeros_feature</th>\n",
              "      <th>fang_1</th>\n",
              "      <th>fang_2</th>\n",
              "      <th>vampire_number</th>\n",
              "    </tr>\n",
              "  </thead>\n",
              "  <tbody>\n",
              "    <tr>\n",
              "      <th>0</th>\n",
              "      <td>100000</td>\n",
              "      <td>1</td>\n",
              "      <td>1</td>\n",
              "      <td>1</td>\n",
              "      <td>0</td>\n",
              "      <td>0</td>\n",
              "      <td>0</td>\n",
              "      <td>0</td>\n",
              "      <td>0</td>\n",
              "      <td>0</td>\n",
              "    </tr>\n",
              "    <tr>\n",
              "      <th>1</th>\n",
              "      <td>100001</td>\n",
              "      <td>2</td>\n",
              "      <td>1</td>\n",
              "      <td>1</td>\n",
              "      <td>0</td>\n",
              "      <td>0</td>\n",
              "      <td>0</td>\n",
              "      <td>0</td>\n",
              "      <td>0</td>\n",
              "      <td>0</td>\n",
              "    </tr>\n",
              "    <tr>\n",
              "      <th>2</th>\n",
              "      <td>100002</td>\n",
              "      <td>3</td>\n",
              "      <td>1</td>\n",
              "      <td>1</td>\n",
              "      <td>0</td>\n",
              "      <td>0</td>\n",
              "      <td>0</td>\n",
              "      <td>0</td>\n",
              "      <td>0</td>\n",
              "      <td>0</td>\n",
              "    </tr>\n",
              "    <tr>\n",
              "      <th>3</th>\n",
              "      <td>100003</td>\n",
              "      <td>4</td>\n",
              "      <td>1</td>\n",
              "      <td>1</td>\n",
              "      <td>0</td>\n",
              "      <td>0</td>\n",
              "      <td>0</td>\n",
              "      <td>0</td>\n",
              "      <td>0</td>\n",
              "      <td>0</td>\n",
              "    </tr>\n",
              "    <tr>\n",
              "      <th>4</th>\n",
              "      <td>100004</td>\n",
              "      <td>5</td>\n",
              "      <td>1</td>\n",
              "      <td>1</td>\n",
              "      <td>0</td>\n",
              "      <td>0</td>\n",
              "      <td>0</td>\n",
              "      <td>0</td>\n",
              "      <td>0</td>\n",
              "      <td>0</td>\n",
              "    </tr>\n",
              "  </tbody>\n",
              "</table>\n",
              "</div>\n",
              "    <div class=\"colab-df-buttons\">\n",
              "\n",
              "  <div class=\"colab-df-container\">\n",
              "    <button class=\"colab-df-convert\" onclick=\"convertToInteractive('df-81794617-d4a0-425b-beac-e841fc07b8e6')\"\n",
              "            title=\"Convert this dataframe to an interactive table.\"\n",
              "            style=\"display:none;\">\n",
              "\n",
              "  <svg xmlns=\"http://www.w3.org/2000/svg\" height=\"24px\" viewBox=\"0 -960 960 960\">\n",
              "    <path d=\"M120-120v-720h720v720H120Zm60-500h600v-160H180v160Zm220 220h160v-160H400v160Zm0 220h160v-160H400v160ZM180-400h160v-160H180v160Zm440 0h160v-160H620v160ZM180-180h160v-160H180v160Zm440 0h160v-160H620v160Z\"/>\n",
              "  </svg>\n",
              "    </button>\n",
              "\n",
              "  <style>\n",
              "    .colab-df-container {\n",
              "      display:flex;\n",
              "      gap: 12px;\n",
              "    }\n",
              "\n",
              "    .colab-df-convert {\n",
              "      background-color: #E8F0FE;\n",
              "      border: none;\n",
              "      border-radius: 50%;\n",
              "      cursor: pointer;\n",
              "      display: none;\n",
              "      fill: #1967D2;\n",
              "      height: 32px;\n",
              "      padding: 0 0 0 0;\n",
              "      width: 32px;\n",
              "    }\n",
              "\n",
              "    .colab-df-convert:hover {\n",
              "      background-color: #E2EBFA;\n",
              "      box-shadow: 0px 1px 2px rgba(60, 64, 67, 0.3), 0px 1px 3px 1px rgba(60, 64, 67, 0.15);\n",
              "      fill: #174EA6;\n",
              "    }\n",
              "\n",
              "    .colab-df-buttons div {\n",
              "      margin-bottom: 4px;\n",
              "    }\n",
              "\n",
              "    [theme=dark] .colab-df-convert {\n",
              "      background-color: #3B4455;\n",
              "      fill: #D2E3FC;\n",
              "    }\n",
              "\n",
              "    [theme=dark] .colab-df-convert:hover {\n",
              "      background-color: #434B5C;\n",
              "      box-shadow: 0px 1px 3px 1px rgba(0, 0, 0, 0.15);\n",
              "      filter: drop-shadow(0px 1px 2px rgba(0, 0, 0, 0.3));\n",
              "      fill: #FFFFFF;\n",
              "    }\n",
              "  </style>\n",
              "\n",
              "    <script>\n",
              "      const buttonEl =\n",
              "        document.querySelector('#df-81794617-d4a0-425b-beac-e841fc07b8e6 button.colab-df-convert');\n",
              "      buttonEl.style.display =\n",
              "        google.colab.kernel.accessAllowed ? 'block' : 'none';\n",
              "\n",
              "      async function convertToInteractive(key) {\n",
              "        const element = document.querySelector('#df-81794617-d4a0-425b-beac-e841fc07b8e6');\n",
              "        const dataTable =\n",
              "          await google.colab.kernel.invokeFunction('convertToInteractive',\n",
              "                                                    [key], {});\n",
              "        if (!dataTable) return;\n",
              "\n",
              "        const docLinkHtml = 'Like what you see? Visit the ' +\n",
              "          '<a target=\"_blank\" href=https://colab.research.google.com/notebooks/data_table.ipynb>data table notebook</a>'\n",
              "          + ' to learn more about interactive tables.';\n",
              "        element.innerHTML = '';\n",
              "        dataTable['output_type'] = 'display_data';\n",
              "        await google.colab.output.renderOutput(dataTable, element);\n",
              "        const docLink = document.createElement('div');\n",
              "        docLink.innerHTML = docLinkHtml;\n",
              "        element.appendChild(docLink);\n",
              "      }\n",
              "    </script>\n",
              "  </div>\n",
              "\n",
              "\n",
              "    <div id=\"df-1580396d-f452-4d97-bcc2-ff4c0e7d8c56\">\n",
              "      <button class=\"colab-df-quickchart\" onclick=\"quickchart('df-1580396d-f452-4d97-bcc2-ff4c0e7d8c56')\"\n",
              "                title=\"Suggest charts\"\n",
              "                style=\"display:none;\">\n",
              "\n",
              "<svg xmlns=\"http://www.w3.org/2000/svg\" height=\"24px\"viewBox=\"0 0 24 24\"\n",
              "     width=\"24px\">\n",
              "    <g>\n",
              "        <path d=\"M19 3H5c-1.1 0-2 .9-2 2v14c0 1.1.9 2 2 2h14c1.1 0 2-.9 2-2V5c0-1.1-.9-2-2-2zM9 17H7v-7h2v7zm4 0h-2V7h2v10zm4 0h-2v-4h2v4z\"/>\n",
              "    </g>\n",
              "</svg>\n",
              "      </button>\n",
              "\n",
              "<style>\n",
              "  .colab-df-quickchart {\n",
              "      --bg-color: #E8F0FE;\n",
              "      --fill-color: #1967D2;\n",
              "      --hover-bg-color: #E2EBFA;\n",
              "      --hover-fill-color: #174EA6;\n",
              "      --disabled-fill-color: #AAA;\n",
              "      --disabled-bg-color: #DDD;\n",
              "  }\n",
              "\n",
              "  [theme=dark] .colab-df-quickchart {\n",
              "      --bg-color: #3B4455;\n",
              "      --fill-color: #D2E3FC;\n",
              "      --hover-bg-color: #434B5C;\n",
              "      --hover-fill-color: #FFFFFF;\n",
              "      --disabled-bg-color: #3B4455;\n",
              "      --disabled-fill-color: #666;\n",
              "  }\n",
              "\n",
              "  .colab-df-quickchart {\n",
              "    background-color: var(--bg-color);\n",
              "    border: none;\n",
              "    border-radius: 50%;\n",
              "    cursor: pointer;\n",
              "    display: none;\n",
              "    fill: var(--fill-color);\n",
              "    height: 32px;\n",
              "    padding: 0;\n",
              "    width: 32px;\n",
              "  }\n",
              "\n",
              "  .colab-df-quickchart:hover {\n",
              "    background-color: var(--hover-bg-color);\n",
              "    box-shadow: 0 1px 2px rgba(60, 64, 67, 0.3), 0 1px 3px 1px rgba(60, 64, 67, 0.15);\n",
              "    fill: var(--button-hover-fill-color);\n",
              "  }\n",
              "\n",
              "  .colab-df-quickchart-complete:disabled,\n",
              "  .colab-df-quickchart-complete:disabled:hover {\n",
              "    background-color: var(--disabled-bg-color);\n",
              "    fill: var(--disabled-fill-color);\n",
              "    box-shadow: none;\n",
              "  }\n",
              "\n",
              "  .colab-df-spinner {\n",
              "    border: 2px solid var(--fill-color);\n",
              "    border-color: transparent;\n",
              "    border-bottom-color: var(--fill-color);\n",
              "    animation:\n",
              "      spin 1s steps(1) infinite;\n",
              "  }\n",
              "\n",
              "  @keyframes spin {\n",
              "    0% {\n",
              "      border-color: transparent;\n",
              "      border-bottom-color: var(--fill-color);\n",
              "      border-left-color: var(--fill-color);\n",
              "    }\n",
              "    20% {\n",
              "      border-color: transparent;\n",
              "      border-left-color: var(--fill-color);\n",
              "      border-top-color: var(--fill-color);\n",
              "    }\n",
              "    30% {\n",
              "      border-color: transparent;\n",
              "      border-left-color: var(--fill-color);\n",
              "      border-top-color: var(--fill-color);\n",
              "      border-right-color: var(--fill-color);\n",
              "    }\n",
              "    40% {\n",
              "      border-color: transparent;\n",
              "      border-right-color: var(--fill-color);\n",
              "      border-top-color: var(--fill-color);\n",
              "    }\n",
              "    60% {\n",
              "      border-color: transparent;\n",
              "      border-right-color: var(--fill-color);\n",
              "    }\n",
              "    80% {\n",
              "      border-color: transparent;\n",
              "      border-right-color: var(--fill-color);\n",
              "      border-bottom-color: var(--fill-color);\n",
              "    }\n",
              "    90% {\n",
              "      border-color: transparent;\n",
              "      border-bottom-color: var(--fill-color);\n",
              "    }\n",
              "  }\n",
              "</style>\n",
              "\n",
              "      <script>\n",
              "        async function quickchart(key) {\n",
              "          const quickchartButtonEl =\n",
              "            document.querySelector('#' + key + ' button');\n",
              "          quickchartButtonEl.disabled = true;  // To prevent multiple clicks.\n",
              "          quickchartButtonEl.classList.add('colab-df-spinner');\n",
              "          try {\n",
              "            const charts = await google.colab.kernel.invokeFunction(\n",
              "                'suggestCharts', [key], {});\n",
              "          } catch (error) {\n",
              "            console.error('Error during call to suggestCharts:', error);\n",
              "          }\n",
              "          quickchartButtonEl.classList.remove('colab-df-spinner');\n",
              "          quickchartButtonEl.classList.add('colab-df-quickchart-complete');\n",
              "        }\n",
              "        (() => {\n",
              "          let quickchartButtonEl =\n",
              "            document.querySelector('#df-1580396d-f452-4d97-bcc2-ff4c0e7d8c56 button');\n",
              "          quickchartButtonEl.style.display =\n",
              "            google.colab.kernel.accessAllowed ? 'block' : 'none';\n",
              "        })();\n",
              "      </script>\n",
              "    </div>\n",
              "\n",
              "    </div>\n",
              "  </div>\n"
            ],
            "application/vnd.google.colaboratory.intrinsic+json": {
              "type": "dataframe",
              "variable_name": "df"
            }
          },
          "metadata": {},
          "execution_count": 12
        }
      ]
    },
    {
      "cell_type": "code",
      "source": [
        "# Taking a look at all rows with identified vampire numbers. Verifying length\n",
        "vamp = df.loc[df[\"vampire_number\"] == 1]\n",
        "vamp = pd.DataFrame(np.array(vamp), columns = headers)"
      ],
      "metadata": {
        "id": "U0H5FIKLMMqa"
      },
      "execution_count": null,
      "outputs": []
    },
    {
      "cell_type": "code",
      "source": [
        "print(vamp['number'])"
      ],
      "metadata": {
        "id": "JhvM3BPtMe9S",
        "colab": {
          "base_uri": "https://localhost:8080/"
        },
        "outputId": "6238c1d8-60a1-4dec-c1c0-441455593828"
      },
      "execution_count": null,
      "outputs": [
        {
          "output_type": "stream",
          "name": "stdout",
          "text": [
            "0      102510\n",
            "1      104260\n",
            "2      105210\n",
            "3      105264\n",
            "4      105750\n",
            "        ...  \n",
            "143    809964\n",
            "144    815958\n",
            "145    829696\n",
            "146    841995\n",
            "147    939658\n",
            "Name: number, Length: 148, dtype: int64\n"
          ]
        }
      ]
    },
    {
      "cell_type": "code",
      "source": [
        "#Saving dataframe to csv file\n",
        "df.to_csv(\"vampire.csv\", index = False)"
      ],
      "metadata": {
        "id": "ONn_ZBeGHKZp"
      },
      "execution_count": null,
      "outputs": []
    },
    {
      "cell_type": "code",
      "source": [
        "df.to_json(\"vampire.json\", orient = \"records\", indent = 4)"
      ],
      "metadata": {
        "id": "2d2eajB5AgFO"
      },
      "execution_count": null,
      "outputs": []
    },
    {
      "cell_type": "code",
      "source": [
        "df.iloc[4260]"
      ],
      "metadata": {
        "id": "AK9cGUHGA5G5",
        "colab": {
          "base_uri": "https://localhost:8080/",
          "height": 398
        },
        "outputId": "78e0f56d-4719-49cb-a4a2-03dac72f1df7"
      },
      "execution_count": null,
      "outputs": [
        {
          "output_type": "execute_result",
          "data": {
            "text/plain": [
              "number                    104260\n",
              "digit_sum                     13\n",
              "natural_number                 1\n",
              "number_even_digits             1\n",
              "half_as_many_feature           1\n",
              "permutation_feature            1\n",
              "trailing_zeros_feature         1\n",
              "fang_1                       260\n",
              "fang_2                       401\n",
              "vampire_number                 1\n",
              "Name: 4260, dtype: int64"
            ],
            "text/html": [
              "<div>\n",
              "<style scoped>\n",
              "    .dataframe tbody tr th:only-of-type {\n",
              "        vertical-align: middle;\n",
              "    }\n",
              "\n",
              "    .dataframe tbody tr th {\n",
              "        vertical-align: top;\n",
              "    }\n",
              "\n",
              "    .dataframe thead th {\n",
              "        text-align: right;\n",
              "    }\n",
              "</style>\n",
              "<table border=\"1\" class=\"dataframe\">\n",
              "  <thead>\n",
              "    <tr style=\"text-align: right;\">\n",
              "      <th></th>\n",
              "      <th>4260</th>\n",
              "    </tr>\n",
              "  </thead>\n",
              "  <tbody>\n",
              "    <tr>\n",
              "      <th>number</th>\n",
              "      <td>104260</td>\n",
              "    </tr>\n",
              "    <tr>\n",
              "      <th>digit_sum</th>\n",
              "      <td>13</td>\n",
              "    </tr>\n",
              "    <tr>\n",
              "      <th>natural_number</th>\n",
              "      <td>1</td>\n",
              "    </tr>\n",
              "    <tr>\n",
              "      <th>number_even_digits</th>\n",
              "      <td>1</td>\n",
              "    </tr>\n",
              "    <tr>\n",
              "      <th>half_as_many_feature</th>\n",
              "      <td>1</td>\n",
              "    </tr>\n",
              "    <tr>\n",
              "      <th>permutation_feature</th>\n",
              "      <td>1</td>\n",
              "    </tr>\n",
              "    <tr>\n",
              "      <th>trailing_zeros_feature</th>\n",
              "      <td>1</td>\n",
              "    </tr>\n",
              "    <tr>\n",
              "      <th>fang_1</th>\n",
              "      <td>260</td>\n",
              "    </tr>\n",
              "    <tr>\n",
              "      <th>fang_2</th>\n",
              "      <td>401</td>\n",
              "    </tr>\n",
              "    <tr>\n",
              "      <th>vampire_number</th>\n",
              "      <td>1</td>\n",
              "    </tr>\n",
              "  </tbody>\n",
              "</table>\n",
              "</div><br><label><b>dtype:</b> int64</label>"
            ]
          },
          "metadata": {},
          "execution_count": 14
        }
      ]
    },
    {
      "cell_type": "code",
      "source": [
        "df = pd.read_csv(\"vampire.csv\")\n",
        "df.head()"
      ],
      "metadata": {
        "id": "InVR-Tw-yU8-",
        "colab": {
          "base_uri": "https://localhost:8080/",
          "height": 206
        },
        "outputId": "0598b8c6-1f87-4941-e521-122722cdfd2e"
      },
      "execution_count": null,
      "outputs": [
        {
          "output_type": "execute_result",
          "data": {
            "text/plain": [
              "   number  digit_sum  natural_number  number_even_digits  \\\n",
              "0  100000          1               1                   1   \n",
              "1  100001          2               1                   1   \n",
              "2  100002          3               1                   1   \n",
              "3  100003          4               1                   1   \n",
              "4  100004          5               1                   1   \n",
              "\n",
              "   half_as_many_feature  permutation_feature  trailing_zeros_feature  fang_1  \\\n",
              "0                     0                    0                       0       0   \n",
              "1                     0                    0                       0       0   \n",
              "2                     0                    0                       0       0   \n",
              "3                     0                    0                       0       0   \n",
              "4                     0                    0                       0       0   \n",
              "\n",
              "   fang_2  vampire_number  \n",
              "0       0               0  \n",
              "1       0               0  \n",
              "2       0               0  \n",
              "3       0               0  \n",
              "4       0               0  "
            ],
            "text/html": [
              "\n",
              "  <div id=\"df-1fcc0b50-06e6-4c6e-8c53-e6d8870aeea2\" class=\"colab-df-container\">\n",
              "    <div>\n",
              "<style scoped>\n",
              "    .dataframe tbody tr th:only-of-type {\n",
              "        vertical-align: middle;\n",
              "    }\n",
              "\n",
              "    .dataframe tbody tr th {\n",
              "        vertical-align: top;\n",
              "    }\n",
              "\n",
              "    .dataframe thead th {\n",
              "        text-align: right;\n",
              "    }\n",
              "</style>\n",
              "<table border=\"1\" class=\"dataframe\">\n",
              "  <thead>\n",
              "    <tr style=\"text-align: right;\">\n",
              "      <th></th>\n",
              "      <th>number</th>\n",
              "      <th>digit_sum</th>\n",
              "      <th>natural_number</th>\n",
              "      <th>number_even_digits</th>\n",
              "      <th>half_as_many_feature</th>\n",
              "      <th>permutation_feature</th>\n",
              "      <th>trailing_zeros_feature</th>\n",
              "      <th>fang_1</th>\n",
              "      <th>fang_2</th>\n",
              "      <th>vampire_number</th>\n",
              "    </tr>\n",
              "  </thead>\n",
              "  <tbody>\n",
              "    <tr>\n",
              "      <th>0</th>\n",
              "      <td>100000</td>\n",
              "      <td>1</td>\n",
              "      <td>1</td>\n",
              "      <td>1</td>\n",
              "      <td>0</td>\n",
              "      <td>0</td>\n",
              "      <td>0</td>\n",
              "      <td>0</td>\n",
              "      <td>0</td>\n",
              "      <td>0</td>\n",
              "    </tr>\n",
              "    <tr>\n",
              "      <th>1</th>\n",
              "      <td>100001</td>\n",
              "      <td>2</td>\n",
              "      <td>1</td>\n",
              "      <td>1</td>\n",
              "      <td>0</td>\n",
              "      <td>0</td>\n",
              "      <td>0</td>\n",
              "      <td>0</td>\n",
              "      <td>0</td>\n",
              "      <td>0</td>\n",
              "    </tr>\n",
              "    <tr>\n",
              "      <th>2</th>\n",
              "      <td>100002</td>\n",
              "      <td>3</td>\n",
              "      <td>1</td>\n",
              "      <td>1</td>\n",
              "      <td>0</td>\n",
              "      <td>0</td>\n",
              "      <td>0</td>\n",
              "      <td>0</td>\n",
              "      <td>0</td>\n",
              "      <td>0</td>\n",
              "    </tr>\n",
              "    <tr>\n",
              "      <th>3</th>\n",
              "      <td>100003</td>\n",
              "      <td>4</td>\n",
              "      <td>1</td>\n",
              "      <td>1</td>\n",
              "      <td>0</td>\n",
              "      <td>0</td>\n",
              "      <td>0</td>\n",
              "      <td>0</td>\n",
              "      <td>0</td>\n",
              "      <td>0</td>\n",
              "    </tr>\n",
              "    <tr>\n",
              "      <th>4</th>\n",
              "      <td>100004</td>\n",
              "      <td>5</td>\n",
              "      <td>1</td>\n",
              "      <td>1</td>\n",
              "      <td>0</td>\n",
              "      <td>0</td>\n",
              "      <td>0</td>\n",
              "      <td>0</td>\n",
              "      <td>0</td>\n",
              "      <td>0</td>\n",
              "    </tr>\n",
              "  </tbody>\n",
              "</table>\n",
              "</div>\n",
              "    <div class=\"colab-df-buttons\">\n",
              "\n",
              "  <div class=\"colab-df-container\">\n",
              "    <button class=\"colab-df-convert\" onclick=\"convertToInteractive('df-1fcc0b50-06e6-4c6e-8c53-e6d8870aeea2')\"\n",
              "            title=\"Convert this dataframe to an interactive table.\"\n",
              "            style=\"display:none;\">\n",
              "\n",
              "  <svg xmlns=\"http://www.w3.org/2000/svg\" height=\"24px\" viewBox=\"0 -960 960 960\">\n",
              "    <path d=\"M120-120v-720h720v720H120Zm60-500h600v-160H180v160Zm220 220h160v-160H400v160Zm0 220h160v-160H400v160ZM180-400h160v-160H180v160Zm440 0h160v-160H620v160ZM180-180h160v-160H180v160Zm440 0h160v-160H620v160Z\"/>\n",
              "  </svg>\n",
              "    </button>\n",
              "\n",
              "  <style>\n",
              "    .colab-df-container {\n",
              "      display:flex;\n",
              "      gap: 12px;\n",
              "    }\n",
              "\n",
              "    .colab-df-convert {\n",
              "      background-color: #E8F0FE;\n",
              "      border: none;\n",
              "      border-radius: 50%;\n",
              "      cursor: pointer;\n",
              "      display: none;\n",
              "      fill: #1967D2;\n",
              "      height: 32px;\n",
              "      padding: 0 0 0 0;\n",
              "      width: 32px;\n",
              "    }\n",
              "\n",
              "    .colab-df-convert:hover {\n",
              "      background-color: #E2EBFA;\n",
              "      box-shadow: 0px 1px 2px rgba(60, 64, 67, 0.3), 0px 1px 3px 1px rgba(60, 64, 67, 0.15);\n",
              "      fill: #174EA6;\n",
              "    }\n",
              "\n",
              "    .colab-df-buttons div {\n",
              "      margin-bottom: 4px;\n",
              "    }\n",
              "\n",
              "    [theme=dark] .colab-df-convert {\n",
              "      background-color: #3B4455;\n",
              "      fill: #D2E3FC;\n",
              "    }\n",
              "\n",
              "    [theme=dark] .colab-df-convert:hover {\n",
              "      background-color: #434B5C;\n",
              "      box-shadow: 0px 1px 3px 1px rgba(0, 0, 0, 0.15);\n",
              "      filter: drop-shadow(0px 1px 2px rgba(0, 0, 0, 0.3));\n",
              "      fill: #FFFFFF;\n",
              "    }\n",
              "  </style>\n",
              "\n",
              "    <script>\n",
              "      const buttonEl =\n",
              "        document.querySelector('#df-1fcc0b50-06e6-4c6e-8c53-e6d8870aeea2 button.colab-df-convert');\n",
              "      buttonEl.style.display =\n",
              "        google.colab.kernel.accessAllowed ? 'block' : 'none';\n",
              "\n",
              "      async function convertToInteractive(key) {\n",
              "        const element = document.querySelector('#df-1fcc0b50-06e6-4c6e-8c53-e6d8870aeea2');\n",
              "        const dataTable =\n",
              "          await google.colab.kernel.invokeFunction('convertToInteractive',\n",
              "                                                    [key], {});\n",
              "        if (!dataTable) return;\n",
              "\n",
              "        const docLinkHtml = 'Like what you see? Visit the ' +\n",
              "          '<a target=\"_blank\" href=https://colab.research.google.com/notebooks/data_table.ipynb>data table notebook</a>'\n",
              "          + ' to learn more about interactive tables.';\n",
              "        element.innerHTML = '';\n",
              "        dataTable['output_type'] = 'display_data';\n",
              "        await google.colab.output.renderOutput(dataTable, element);\n",
              "        const docLink = document.createElement('div');\n",
              "        docLink.innerHTML = docLinkHtml;\n",
              "        element.appendChild(docLink);\n",
              "      }\n",
              "    </script>\n",
              "  </div>\n",
              "\n",
              "\n",
              "    <div id=\"df-0fcdd40b-8277-49e0-8437-4c84dc58160e\">\n",
              "      <button class=\"colab-df-quickchart\" onclick=\"quickchart('df-0fcdd40b-8277-49e0-8437-4c84dc58160e')\"\n",
              "                title=\"Suggest charts\"\n",
              "                style=\"display:none;\">\n",
              "\n",
              "<svg xmlns=\"http://www.w3.org/2000/svg\" height=\"24px\"viewBox=\"0 0 24 24\"\n",
              "     width=\"24px\">\n",
              "    <g>\n",
              "        <path d=\"M19 3H5c-1.1 0-2 .9-2 2v14c0 1.1.9 2 2 2h14c1.1 0 2-.9 2-2V5c0-1.1-.9-2-2-2zM9 17H7v-7h2v7zm4 0h-2V7h2v10zm4 0h-2v-4h2v4z\"/>\n",
              "    </g>\n",
              "</svg>\n",
              "      </button>\n",
              "\n",
              "<style>\n",
              "  .colab-df-quickchart {\n",
              "      --bg-color: #E8F0FE;\n",
              "      --fill-color: #1967D2;\n",
              "      --hover-bg-color: #E2EBFA;\n",
              "      --hover-fill-color: #174EA6;\n",
              "      --disabled-fill-color: #AAA;\n",
              "      --disabled-bg-color: #DDD;\n",
              "  }\n",
              "\n",
              "  [theme=dark] .colab-df-quickchart {\n",
              "      --bg-color: #3B4455;\n",
              "      --fill-color: #D2E3FC;\n",
              "      --hover-bg-color: #434B5C;\n",
              "      --hover-fill-color: #FFFFFF;\n",
              "      --disabled-bg-color: #3B4455;\n",
              "      --disabled-fill-color: #666;\n",
              "  }\n",
              "\n",
              "  .colab-df-quickchart {\n",
              "    background-color: var(--bg-color);\n",
              "    border: none;\n",
              "    border-radius: 50%;\n",
              "    cursor: pointer;\n",
              "    display: none;\n",
              "    fill: var(--fill-color);\n",
              "    height: 32px;\n",
              "    padding: 0;\n",
              "    width: 32px;\n",
              "  }\n",
              "\n",
              "  .colab-df-quickchart:hover {\n",
              "    background-color: var(--hover-bg-color);\n",
              "    box-shadow: 0 1px 2px rgba(60, 64, 67, 0.3), 0 1px 3px 1px rgba(60, 64, 67, 0.15);\n",
              "    fill: var(--button-hover-fill-color);\n",
              "  }\n",
              "\n",
              "  .colab-df-quickchart-complete:disabled,\n",
              "  .colab-df-quickchart-complete:disabled:hover {\n",
              "    background-color: var(--disabled-bg-color);\n",
              "    fill: var(--disabled-fill-color);\n",
              "    box-shadow: none;\n",
              "  }\n",
              "\n",
              "  .colab-df-spinner {\n",
              "    border: 2px solid var(--fill-color);\n",
              "    border-color: transparent;\n",
              "    border-bottom-color: var(--fill-color);\n",
              "    animation:\n",
              "      spin 1s steps(1) infinite;\n",
              "  }\n",
              "\n",
              "  @keyframes spin {\n",
              "    0% {\n",
              "      border-color: transparent;\n",
              "      border-bottom-color: var(--fill-color);\n",
              "      border-left-color: var(--fill-color);\n",
              "    }\n",
              "    20% {\n",
              "      border-color: transparent;\n",
              "      border-left-color: var(--fill-color);\n",
              "      border-top-color: var(--fill-color);\n",
              "    }\n",
              "    30% {\n",
              "      border-color: transparent;\n",
              "      border-left-color: var(--fill-color);\n",
              "      border-top-color: var(--fill-color);\n",
              "      border-right-color: var(--fill-color);\n",
              "    }\n",
              "    40% {\n",
              "      border-color: transparent;\n",
              "      border-right-color: var(--fill-color);\n",
              "      border-top-color: var(--fill-color);\n",
              "    }\n",
              "    60% {\n",
              "      border-color: transparent;\n",
              "      border-right-color: var(--fill-color);\n",
              "    }\n",
              "    80% {\n",
              "      border-color: transparent;\n",
              "      border-right-color: var(--fill-color);\n",
              "      border-bottom-color: var(--fill-color);\n",
              "    }\n",
              "    90% {\n",
              "      border-color: transparent;\n",
              "      border-bottom-color: var(--fill-color);\n",
              "    }\n",
              "  }\n",
              "</style>\n",
              "\n",
              "      <script>\n",
              "        async function quickchart(key) {\n",
              "          const quickchartButtonEl =\n",
              "            document.querySelector('#' + key + ' button');\n",
              "          quickchartButtonEl.disabled = true;  // To prevent multiple clicks.\n",
              "          quickchartButtonEl.classList.add('colab-df-spinner');\n",
              "          try {\n",
              "            const charts = await google.colab.kernel.invokeFunction(\n",
              "                'suggestCharts', [key], {});\n",
              "          } catch (error) {\n",
              "            console.error('Error during call to suggestCharts:', error);\n",
              "          }\n",
              "          quickchartButtonEl.classList.remove('colab-df-spinner');\n",
              "          quickchartButtonEl.classList.add('colab-df-quickchart-complete');\n",
              "        }\n",
              "        (() => {\n",
              "          let quickchartButtonEl =\n",
              "            document.querySelector('#df-0fcdd40b-8277-49e0-8437-4c84dc58160e button');\n",
              "          quickchartButtonEl.style.display =\n",
              "            google.colab.kernel.accessAllowed ? 'block' : 'none';\n",
              "        })();\n",
              "      </script>\n",
              "    </div>\n",
              "\n",
              "    </div>\n",
              "  </div>\n"
            ],
            "application/vnd.google.colaboratory.intrinsic+json": {
              "type": "dataframe",
              "variable_name": "df"
            }
          },
          "metadata": {},
          "execution_count": 16
        }
      ]
    },
    {
      "cell_type": "markdown",
      "source": [
        "Here we drop redundant columns, or columns to closely associated with the output label."
      ],
      "metadata": {
        "id": "_3t2IcKyS8mU"
      }
    },
    {
      "cell_type": "code",
      "source": [
        "x = df.drop(columns = [\"natural_number\",\"number_even_digits\", \"fang_1\", \"fang_2\"])\n",
        "y = df[\"vampire_number\"]\n"
      ],
      "metadata": {
        "id": "iMbFcdbAdeMO"
      },
      "execution_count": null,
      "outputs": []
    },
    {
      "cell_type": "markdown",
      "source": [
        "Here we balance our dataset since there are only 148 vampire numbers in order to have sufficient training data."
      ],
      "metadata": {
        "id": "qeYUvUBAMkRH"
      }
    },
    {
      "cell_type": "code",
      "source": [
        "x1 = x.loc[x[\"vampire_number\"] == 1]\n",
        "x0 = x.loc[x[\"vampire_number\"] == 0]\n",
        "\n",
        "x1 = np.array(x1)\n",
        "x0 = np.array(x0)\n",
        "\n",
        "x1 = np.tile(x1,(6000, 1))\n",
        "\n",
        "print(x1.shape)\n",
        "print(x0.shape)\n"
      ],
      "metadata": {
        "id": "ZWHORyln37WG",
        "colab": {
          "base_uri": "https://localhost:8080/"
        },
        "outputId": "f999be32-481b-48db-9c43-30f6d9152b11"
      },
      "execution_count": null,
      "outputs": [
        {
          "output_type": "stream",
          "name": "stdout",
          "text": [
            "(888000, 6)\n",
            "(899851, 6)\n"
          ]
        }
      ]
    },
    {
      "cell_type": "markdown",
      "source": [
        "Here we separate the features from the output label."
      ],
      "metadata": {
        "id": "mJyRlo2nTS44"
      }
    },
    {
      "cell_type": "code",
      "source": [
        "print(x1[0])\n",
        "x = list(x1[:,: 5]) + list(x0[:,: 5])\n",
        "y = list(x1[:,-1]) + list(x0[:,-1])\n",
        "x = np.array(x)\n",
        "y = np.array(y)\n",
        "print(x[0])"
      ],
      "metadata": {
        "colab": {
          "base_uri": "https://localhost:8080/"
        },
        "id": "J8Z1Kau0IlMI",
        "outputId": "14f76566-d34a-4ae0-97b8-161952f9271d"
      },
      "execution_count": null,
      "outputs": [
        {
          "output_type": "stream",
          "name": "stdout",
          "text": [
            "[102510      9      1      1      1      1]\n",
            "[102510      9      1      1      1]\n"
          ]
        }
      ]
    },
    {
      "cell_type": "code",
      "source": [
        "print(x.shape)\n",
        "print(y.shape)"
      ],
      "metadata": {
        "colab": {
          "base_uri": "https://localhost:8080/"
        },
        "id": "v95Tsuj8GmwL",
        "outputId": "2521aab1-7379-443e-8af6-79b149a7e506"
      },
      "execution_count": null,
      "outputs": [
        {
          "output_type": "stream",
          "name": "stdout",
          "text": [
            "(1787851, 5)\n",
            "(1787851,)\n"
          ]
        }
      ]
    },
    {
      "cell_type": "markdown",
      "source": [
        "Once our dataset has been generated we can start splitting our data into training, and test sets."
      ],
      "metadata": {
        "id": "_jm2dMz9Jp2_"
      }
    },
    {
      "cell_type": "code",
      "source": [
        "from sklearn.model_selection import train_test_split\n",
        "x_train, x_test, y_train, y_test = train_test_split(x, y,test_size=.2, random_state = 42)"
      ],
      "metadata": {
        "id": "534ojfMO7dG9"
      },
      "execution_count": null,
      "outputs": []
    },
    {
      "cell_type": "markdown",
      "source": [],
      "metadata": {
        "id": "pXyjbGO-K134"
      }
    },
    {
      "cell_type": "code",
      "source": [
        "x_num_train = x_train\n",
        "x_num_test = x_test\n",
        "x_train = x_train[:,1:5]\n",
        "x_test = x_test[:,1:5]\n",
        "\n",
        "print(x_num_train[0])\n",
        "print(x_num_test[0])\n",
        "print(x_train[0])\n",
        "print(x_test[0])"
      ],
      "metadata": {
        "colab": {
          "base_uri": "https://localhost:8080/"
        },
        "id": "Okg2Ze3XTtWW",
        "outputId": "76e40811-612c-4ad8-fcb1-4cbd1bda7de1"
      },
      "execution_count": null,
      "outputs": [
        {
          "output_type": "stream",
          "name": "stdout",
          "text": [
            "[148406     23      0      0      0]\n",
            "[780636     30      0      0      0]\n",
            "[23  0  0  0]\n",
            "[30  0  0  0]\n"
          ]
        }
      ]
    },
    {
      "cell_type": "code",
      "source": [
        "model = Sequential(\n",
        "    [\n",
        "        tf.keras.Input(shape=(4,)),    #specify input size\n",
        "\n",
        "        Dense(4, activation = 'sigmoid', name ='dense'),\n",
        "        Dense(1, activation = 'sigmoid', name ='dense_1'),\n",
        "    ]\n",
        ")\n"
      ],
      "metadata": {
        "id": "Vmh3e-0teSpw"
      },
      "execution_count": null,
      "outputs": []
    },
    {
      "cell_type": "code",
      "source": [
        "model.summary()"
      ],
      "metadata": {
        "id": "MSADLL8H5Uuc",
        "colab": {
          "base_uri": "https://localhost:8080/",
          "height": 200
        },
        "outputId": "4ea01c43-e16c-4dba-fe09-751d60401825"
      },
      "execution_count": null,
      "outputs": [
        {
          "output_type": "display_data",
          "data": {
            "text/plain": [
              "\u001b[1mModel: \"sequential\"\u001b[0m\n"
            ],
            "text/html": [
              "<pre style=\"white-space:pre;overflow-x:auto;line-height:normal;font-family:Menlo,'DejaVu Sans Mono',consolas,'Courier New',monospace\"><span style=\"font-weight: bold\">Model: \"sequential\"</span>\n",
              "</pre>\n"
            ]
          },
          "metadata": {}
        },
        {
          "output_type": "display_data",
          "data": {
            "text/plain": [
              "┏━━━━━━━━━━━━━━━━━━━━━━━━━━━━━━━━━┳━━━━━━━━━━━━━━━━━━━━━━━━┳━━━━━━━━━━━━━━━┓\n",
              "┃\u001b[1m \u001b[0m\u001b[1mLayer (type)                   \u001b[0m\u001b[1m \u001b[0m┃\u001b[1m \u001b[0m\u001b[1mOutput Shape          \u001b[0m\u001b[1m \u001b[0m┃\u001b[1m \u001b[0m\u001b[1m      Param #\u001b[0m\u001b[1m \u001b[0m┃\n",
              "┡━━━━━━━━━━━━━━━━━━━━━━━━━━━━━━━━━╇━━━━━━━━━━━━━━━━━━━━━━━━╇━━━━━━━━━━━━━━━┩\n",
              "│ dense (\u001b[38;5;33mDense\u001b[0m)                   │ (\u001b[38;5;45mNone\u001b[0m, \u001b[38;5;34m4\u001b[0m)              │            \u001b[38;5;34m20\u001b[0m │\n",
              "├─────────────────────────────────┼────────────────────────┼───────────────┤\n",
              "│ dense_1 (\u001b[38;5;33mDense\u001b[0m)                 │ (\u001b[38;5;45mNone\u001b[0m, \u001b[38;5;34m1\u001b[0m)              │             \u001b[38;5;34m5\u001b[0m │\n",
              "└─────────────────────────────────┴────────────────────────┴───────────────┘\n"
            ],
            "text/html": [
              "<pre style=\"white-space:pre;overflow-x:auto;line-height:normal;font-family:Menlo,'DejaVu Sans Mono',consolas,'Courier New',monospace\">┏━━━━━━━━━━━━━━━━━━━━━━━━━━━━━━━━━┳━━━━━━━━━━━━━━━━━━━━━━━━┳━━━━━━━━━━━━━━━┓\n",
              "┃<span style=\"font-weight: bold\"> Layer (type)                    </span>┃<span style=\"font-weight: bold\"> Output Shape           </span>┃<span style=\"font-weight: bold\">       Param # </span>┃\n",
              "┡━━━━━━━━━━━━━━━━━━━━━━━━━━━━━━━━━╇━━━━━━━━━━━━━━━━━━━━━━━━╇━━━━━━━━━━━━━━━┩\n",
              "│ dense (<span style=\"color: #0087ff; text-decoration-color: #0087ff\">Dense</span>)                   │ (<span style=\"color: #00d7ff; text-decoration-color: #00d7ff\">None</span>, <span style=\"color: #00af00; text-decoration-color: #00af00\">4</span>)              │            <span style=\"color: #00af00; text-decoration-color: #00af00\">20</span> │\n",
              "├─────────────────────────────────┼────────────────────────┼───────────────┤\n",
              "│ dense_1 (<span style=\"color: #0087ff; text-decoration-color: #0087ff\">Dense</span>)                 │ (<span style=\"color: #00d7ff; text-decoration-color: #00d7ff\">None</span>, <span style=\"color: #00af00; text-decoration-color: #00af00\">1</span>)              │             <span style=\"color: #00af00; text-decoration-color: #00af00\">5</span> │\n",
              "└─────────────────────────────────┴────────────────────────┴───────────────┘\n",
              "</pre>\n"
            ]
          },
          "metadata": {}
        },
        {
          "output_type": "display_data",
          "data": {
            "text/plain": [
              "\u001b[1m Total params: \u001b[0m\u001b[38;5;34m25\u001b[0m (100.00 B)\n"
            ],
            "text/html": [
              "<pre style=\"white-space:pre;overflow-x:auto;line-height:normal;font-family:Menlo,'DejaVu Sans Mono',consolas,'Courier New',monospace\"><span style=\"font-weight: bold\"> Total params: </span><span style=\"color: #00af00; text-decoration-color: #00af00\">25</span> (100.00 B)\n",
              "</pre>\n"
            ]
          },
          "metadata": {}
        },
        {
          "output_type": "display_data",
          "data": {
            "text/plain": [
              "\u001b[1m Trainable params: \u001b[0m\u001b[38;5;34m25\u001b[0m (100.00 B)\n"
            ],
            "text/html": [
              "<pre style=\"white-space:pre;overflow-x:auto;line-height:normal;font-family:Menlo,'DejaVu Sans Mono',consolas,'Courier New',monospace\"><span style=\"font-weight: bold\"> Trainable params: </span><span style=\"color: #00af00; text-decoration-color: #00af00\">25</span> (100.00 B)\n",
              "</pre>\n"
            ]
          },
          "metadata": {}
        },
        {
          "output_type": "display_data",
          "data": {
            "text/plain": [
              "\u001b[1m Non-trainable params: \u001b[0m\u001b[38;5;34m0\u001b[0m (0.00 B)\n"
            ],
            "text/html": [
              "<pre style=\"white-space:pre;overflow-x:auto;line-height:normal;font-family:Menlo,'DejaVu Sans Mono',consolas,'Courier New',monospace\"><span style=\"font-weight: bold\"> Non-trainable params: </span><span style=\"color: #00af00; text-decoration-color: #00af00\">0</span> (0.00 B)\n",
              "</pre>\n"
            ]
          },
          "metadata": {}
        }
      ]
    },
    {
      "cell_type": "code",
      "source": [
        "[layer1,layer2] = model.layers\n",
        "W1,b1 = layer1.get_weights()\n",
        "W2,b2 = layer2.get_weights()\n",
        "print(f\"W1{W1.shape}:\\n\", W1, f\"\\nb1{b1.shape}:\", b1)\n",
        "print(f\"W2{W2.shape}:\\n\", W2, f\"\\nb2{b2.shape}:\", b2)"
      ],
      "metadata": {
        "id": "_1qVBv8i5hx6",
        "colab": {
          "base_uri": "https://localhost:8080/"
        },
        "outputId": "a0d79335-60a7-4f97-9b9d-4b234807c729"
      },
      "execution_count": null,
      "outputs": [
        {
          "output_type": "stream",
          "name": "stdout",
          "text": [
            "W1(4, 4):\n",
            " [[-0.46249196  0.40040153  0.10136181  0.01477814]\n",
            " [-0.1278544   0.05001938  0.18156022  0.48989755]\n",
            " [-0.13933408  0.57831603  0.6031919   0.6287605 ]\n",
            " [ 0.48386377  0.79071826 -0.22402233  0.52295715]] \n",
            "b1(4,): [0. 0. 0. 0.]\n",
            "W2(4, 1):\n",
            " [[-0.9074019 ]\n",
            " [-0.7676741 ]\n",
            " [ 0.6712388 ]\n",
            " [-0.16990238]] \n",
            "b2(1,): [0.]\n"
          ]
        }
      ]
    },
    {
      "cell_type": "markdown",
      "source": [
        "Here we are normalizing our dataset in order to improve model performance.\n",
        "Normalization is a technique to improve data integrity."
      ],
      "metadata": {
        "id": "4HVuDqZoVpsG"
      }
    },
    {
      "cell_type": "code",
      "source": [
        "norm_l = tf.keras.layers.Normalization(axis=-1)\n",
        "x_train = np.array(x_train)\n",
        "norm_l.adapt(x_train)  # learns mean, variance\n",
        "Xn = norm_l(x_train)\n"
      ],
      "metadata": {
        "id": "B77xb9SXxXzd"
      },
      "execution_count": null,
      "outputs": []
    },
    {
      "cell_type": "code",
      "source": [
        "model.compile(\n",
        "    loss = tf.keras.losses.BinaryCrossentropy(),\n",
        "    optimizer = tf.keras.optimizers.Adam(learning_rate=0.01),\n",
        ")\n",
        "\n",
        "model.fit(\n",
        "    Xn,y_train,\n",
        "    epochs=10,\n",
        ")"
      ],
      "metadata": {
        "id": "ODn7HsLrZrIR",
        "colab": {
          "base_uri": "https://localhost:8080/"
        },
        "outputId": "5196cf59-e0da-4fd8-f250-e89fca120cad"
      },
      "execution_count": null,
      "outputs": [
        {
          "output_type": "stream",
          "name": "stdout",
          "text": [
            "Epoch 1/10\n",
            "\u001b[1m44697/44697\u001b[0m \u001b[32m━━━━━━━━━━━━━━━━━━━━\u001b[0m\u001b[37m\u001b[0m \u001b[1m76s\u001b[0m 2ms/step - loss: 0.0092\n",
            "Epoch 2/10\n",
            "\u001b[1m44697/44697\u001b[0m \u001b[32m━━━━━━━━━━━━━━━━━━━━\u001b[0m\u001b[37m\u001b[0m \u001b[1m81s\u001b[0m 2ms/step - loss: 1.4955e-08\n",
            "Epoch 3/10\n",
            "\u001b[1m44697/44697\u001b[0m \u001b[32m━━━━━━━━━━━━━━━━━━━━\u001b[0m\u001b[37m\u001b[0m \u001b[1m82s\u001b[0m 2ms/step - loss: 1.4814e-08\n",
            "Epoch 4/10\n",
            "\u001b[1m44697/44697\u001b[0m \u001b[32m━━━━━━━━━━━━━━━━━━━━\u001b[0m\u001b[37m\u001b[0m \u001b[1m83s\u001b[0m 2ms/step - loss: 1.4806e-08\n",
            "Epoch 5/10\n",
            "\u001b[1m44697/44697\u001b[0m \u001b[32m━━━━━━━━━━━━━━━━━━━━\u001b[0m\u001b[37m\u001b[0m \u001b[1m81s\u001b[0m 2ms/step - loss: 1.4812e-08\n",
            "Epoch 6/10\n",
            "\u001b[1m44697/44697\u001b[0m \u001b[32m━━━━━━━━━━━━━━━━━━━━\u001b[0m\u001b[37m\u001b[0m \u001b[1m82s\u001b[0m 2ms/step - loss: 1.4792e-08\n",
            "Epoch 7/10\n",
            "\u001b[1m44697/44697\u001b[0m \u001b[32m━━━━━━━━━━━━━━━━━━━━\u001b[0m\u001b[37m\u001b[0m \u001b[1m75s\u001b[0m 2ms/step - loss: 1.4795e-08\n",
            "Epoch 8/10\n",
            "\u001b[1m44697/44697\u001b[0m \u001b[32m━━━━━━━━━━━━━━━━━━━━\u001b[0m\u001b[37m\u001b[0m \u001b[1m75s\u001b[0m 2ms/step - loss: 1.4822e-08\n",
            "Epoch 9/10\n",
            "\u001b[1m44697/44697\u001b[0m \u001b[32m━━━━━━━━━━━━━━━━━━━━\u001b[0m\u001b[37m\u001b[0m \u001b[1m80s\u001b[0m 2ms/step - loss: 1.4809e-08\n",
            "Epoch 10/10\n",
            "\u001b[1m44697/44697\u001b[0m \u001b[32m━━━━━━━━━━━━━━━━━━━━\u001b[0m\u001b[37m\u001b[0m \u001b[1m75s\u001b[0m 2ms/step - loss: 1.4789e-08\n"
          ]
        },
        {
          "output_type": "execute_result",
          "data": {
            "text/plain": [
              "<keras.src.callbacks.history.History at 0x7cfa711b2c10>"
            ]
          },
          "metadata": {},
          "execution_count": 35
        }
      ]
    },
    {
      "cell_type": "markdown",
      "source": [],
      "metadata": {
        "id": "E4eITi6bRaaX"
      }
    },
    {
      "cell_type": "code",
      "source": [
        "[layer1,layer2] = model.layers\n",
        "W1,b1 = layer1.get_weights()\n",
        "W2,b2 = layer2.get_weights()\n",
        "print(f\"W1{W1.shape}:\\n\", W1, f\"\\nb1{b1.shape}:\", b1)\n",
        "print(f\"W2{W2.shape}:\\n\", W2, f\"\\nb2{b2.shape}:\", b2)"
      ],
      "metadata": {
        "id": "VLuOz1ZGctYS",
        "colab": {
          "base_uri": "https://localhost:8080/"
        },
        "outputId": "b1c67396-9564-4da6-bd4b-30e306b2e978"
      },
      "execution_count": null,
      "outputs": [
        {
          "output_type": "stream",
          "name": "stdout",
          "text": [
            "W1(4, 4):\n",
            " [[-0.01440327  0.01158994 -0.04043884 -0.03876886]\n",
            " [-2.4231057   1.3806235   1.5378193   1.7086192 ]\n",
            " [-2.5221055   1.897896    2.5364068   2.5904531 ]\n",
            " [-1.5394851   2.8638816   2.5441923   2.5867457 ]] \n",
            "b1(4,): [ 0.44512382 -0.44303176 -0.41411808 -0.41636682]\n",
            "W2(4, 1):\n",
            " [[-15.594596 ]\n",
            " [  9.89562  ]\n",
            " [  7.2674074]\n",
            " [  9.050568 ]] \n",
            "b2(1,): [-8.78962]\n"
          ]
        }
      ]
    },
    {
      "cell_type": "code",
      "source": [
        "norm_l = tf.keras.layers.Normalization(axis=-1)\n",
        "x_test = np.array(x_test)\n",
        "norm_l.adapt(x_test)  # learns mean, variance\n",
        "Xn = norm_l(x_test)\n"
      ],
      "metadata": {
        "id": "5rhjX9M4yUfl"
      },
      "execution_count": null,
      "outputs": []
    },
    {
      "cell_type": "code",
      "source": [
        "x"
      ],
      "metadata": {
        "id": "s8OFbcIGZkrJ"
      },
      "execution_count": null,
      "outputs": []
    },
    {
      "cell_type": "code",
      "source": [
        "predictions = model.predict(Xn)\n",
        "print(\"predictions = \\n\", predictions)"
      ],
      "metadata": {
        "id": "e4tsUPUddAlR",
        "colab": {
          "base_uri": "https://localhost:8080/"
        },
        "outputId": "2cefc116-3ab7-40ef-adee-49bb0eb4a297"
      },
      "execution_count": null,
      "outputs": [
        {
          "output_type": "stream",
          "name": "stdout",
          "text": [
            "\u001b[1m11175/11175\u001b[0m \u001b[32m━━━━━━━━━━━━━━━━━━━━\u001b[0m\u001b[37m\u001b[0m \u001b[1m11s\u001b[0m 1ms/step\n",
            "predictions = \n",
            " [[2.6842932e-11]\n",
            " [1.0000000e+00]\n",
            " [2.6848569e-11]\n",
            " ...\n",
            " [1.0000000e+00]\n",
            " [1.0000000e+00]\n",
            " [1.0000000e+00]]\n"
          ]
        }
      ]
    },
    {
      "cell_type": "code",
      "source": [
        "number1 = x_num_test[1][0]\n",
        "number2 = x_num_test[2][0]\n",
        "print(number1)\n",
        "print(number2)"
      ],
      "metadata": {
        "colab": {
          "base_uri": "https://localhost:8080/"
        },
        "id": "CQfMZJlmaD2h",
        "outputId": "39adf72d-6c61-490c-ba38-f323354ab802"
      },
      "execution_count": null,
      "outputs": [
        {
          "output_type": "stream",
          "name": "stdout",
          "text": [
            "829696\n",
            "601309\n"
          ]
        }
      ]
    },
    {
      "cell_type": "code",
      "source": [
        "# map predictions array to binary classification\n",
        "predictions = list(map(lambda x : 0 if x < .5 else 1 ,predictions))"
      ],
      "metadata": {
        "id": "rtJGXypvbTXQ"
      },
      "execution_count": null,
      "outputs": []
    },
    {
      "cell_type": "code",
      "source": [
        "# print number prediction and actual\n",
        "print(f\"  Number  Prediction  Actual\" )\n",
        "print(f\"  {number1:6} {predictions[1]:7} {y_test[1]:8}\")\n",
        "print(f\"  {number2:6} {predictions[2]:7} {y_test[2]:8}\")\n",
        "\n"
      ],
      "metadata": {
        "id": "Xhd0ZDm5hdnR",
        "colab": {
          "base_uri": "https://localhost:8080/"
        },
        "outputId": "bc33f4e3-c99e-4882-ff39-2879fd2ab903"
      },
      "execution_count": null,
      "outputs": [
        {
          "output_type": "stream",
          "name": "stdout",
          "text": [
            "  Number  Prediction  Actual\n",
            "  829696       1        1\n",
            "  601309       0        0\n"
          ]
        }
      ]
    },
    {
      "cell_type": "code",
      "source": [
        "print(\"Accuracy:\", accuracy_score(y_test, predictions))\n",
        "print(\"Confusion Matrix:\\n\", confusion_matrix(y_test, predictions))\n",
        "print(\"Classification Report:\\n\", classification_report(y_test, predictions))\n"
      ],
      "metadata": {
        "colab": {
          "base_uri": "https://localhost:8080/"
        },
        "id": "8o1jr4ZKEKJh",
        "outputId": "244c22c3-ff7e-475e-ff75-ce4f95cb06ac"
      },
      "execution_count": null,
      "outputs": [
        {
          "output_type": "stream",
          "name": "stdout",
          "text": [
            "Accuracy: 1.0\n",
            "Confusion Matrix:\n",
            " [[180013      0]\n",
            " [     0 177558]]\n",
            "Classification Report:\n",
            "               precision    recall  f1-score   support\n",
            "\n",
            "           0       1.00      1.00      1.00    180013\n",
            "           1       1.00      1.00      1.00    177558\n",
            "\n",
            "    accuracy                           1.00    357571\n",
            "   macro avg       1.00      1.00      1.00    357571\n",
            "weighted avg       1.00      1.00      1.00    357571\n",
            "\n"
          ]
        }
      ]
    },
    {
      "cell_type": "markdown",
      "source": [
        "Running Logistic Regression for comparison"
      ],
      "metadata": {
        "id": "G6X6naeydOUB"
      }
    },
    {
      "cell_type": "code",
      "source": [
        "y_pred = LogisticRegression(solver='liblinear', random_state=1234).fit(x_train, y_train).predict(x_test)\n",
        "print(\"Accuracy Reverification:\", accuracy_score(y_test, y_pred))\n",
        "print(\"Confusion Matrix Reverification:\\n\", confusion_matrix(y_test, y_pred))\n",
        "print(\"Classification Report Reverification:\\n\", classification_report(y_test, y_pred))\n"
      ],
      "metadata": {
        "id": "cpp-dxlGBSZS",
        "colab": {
          "base_uri": "https://localhost:8080/"
        },
        "outputId": "3c10971a-c119-41ea-8e78-1d5ec9784338"
      },
      "execution_count": null,
      "outputs": [
        {
          "output_type": "stream",
          "name": "stdout",
          "text": [
            "Accuracy Reverification: 1.0\n",
            "Confusion Matrix Reverification:\n",
            " [[180013      0]\n",
            " [     0 177558]]\n",
            "Classification Report Reverification:\n",
            "               precision    recall  f1-score   support\n",
            "\n",
            "           0       1.00      1.00      1.00    180013\n",
            "           1       1.00      1.00      1.00    177558\n",
            "\n",
            "    accuracy                           1.00    357571\n",
            "   macro avg       1.00      1.00      1.00    357571\n",
            "weighted avg       1.00      1.00      1.00    357571\n",
            "\n"
          ]
        }
      ]
    },
    {
      "cell_type": "markdown",
      "source": [],
      "metadata": {
        "id": "_PSl2gT87ciw"
      }
    }
  ]
}